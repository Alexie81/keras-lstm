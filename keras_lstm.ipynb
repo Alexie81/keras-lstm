{
 "cells": [
  {
   "cell_type": "code",
   "execution_count": 16,
   "metadata": {},
   "outputs": [
    {
     "name": "stdout",
     "output_type": "stream",
     "text": [
      "Requirement already satisfied: numpy==1.14.5 in /anaconda2/envs/tensorflow3.6/lib/python3.6/site-packages (from -r requirements.txt (line 1)) (1.14.5)\n",
      "Requirement already satisfied: pandas==0.21.1 in /anaconda2/envs/tensorflow3.6/lib/python3.6/site-packages (from -r requirements.txt (line 2)) (0.21.1)\n",
      "Requirement already satisfied: keras==2.2.2 in /anaconda2/envs/tensorflow3.6/lib/python3.6/site-packages (from -r requirements.txt (line 3)) (2.2.2)\n",
      "Requirement already satisfied: requests==2.18.4 in /anaconda2/envs/tensorflow3.6/lib/python3.6/site-packages (from -r requirements.txt (line 4)) (2.18.4)\n",
      "Requirement already satisfied: scipy==1.0.0 in /anaconda2/envs/tensorflow3.6/lib/python3.6/site-packages (from -r requirements.txt (line 5)) (1.0.0)\n",
      "Requirement already satisfied: scikit-learn==0.19.1 in /anaconda2/envs/tensorflow3.6/lib/python3.6/site-packages (from -r requirements.txt (line 6)) (0.19.1)\n",
      "Requirement already satisfied: matplotlib==2.2.3 in /anaconda2/envs/tensorflow3.6/lib/python3.6/site-packages (from -r requirements.txt (line 7)) (2.2.3)\n",
      "Requirement already satisfied: pytz>=2011k in /anaconda2/envs/tensorflow3.6/lib/python3.6/site-packages (from pandas==0.21.1->-r requirements.txt (line 2)) (2018.4)\n",
      "Requirement already satisfied: python-dateutil>=2 in /anaconda2/envs/tensorflow3.6/lib/python3.6/site-packages (from pandas==0.21.1->-r requirements.txt (line 2)) (2.7.3)\n",
      "Requirement already satisfied: six>=1.9.0 in /anaconda2/envs/tensorflow3.6/lib/python3.6/site-packages (from keras==2.2.2->-r requirements.txt (line 3)) (1.11.0)\n",
      "Requirement already satisfied: pyyaml in /anaconda2/envs/tensorflow3.6/lib/python3.6/site-packages (from keras==2.2.2->-r requirements.txt (line 3)) (3.12)\n",
      "Requirement already satisfied: h5py in /anaconda2/envs/tensorflow3.6/lib/python3.6/site-packages (from keras==2.2.2->-r requirements.txt (line 3)) (2.8.0)\n",
      "Requirement already satisfied: keras_applications==1.0.4 in /anaconda2/envs/tensorflow3.6/lib/python3.6/site-packages (from keras==2.2.2->-r requirements.txt (line 3)) (1.0.4)\n",
      "Requirement already satisfied: keras_preprocessing==1.0.2 in /anaconda2/envs/tensorflow3.6/lib/python3.6/site-packages (from keras==2.2.2->-r requirements.txt (line 3)) (1.0.2)\n",
      "Requirement already satisfied: chardet<3.1.0,>=3.0.2 in /anaconda2/envs/tensorflow3.6/lib/python3.6/site-packages (from requests==2.18.4->-r requirements.txt (line 4)) (3.0.4)\n",
      "Requirement already satisfied: certifi>=2017.4.17 in /anaconda2/envs/tensorflow3.6/lib/python3.6/site-packages (from requests==2.18.4->-r requirements.txt (line 4)) (2018.8.13)\n",
      "Requirement already satisfied: idna<2.7,>=2.5 in /anaconda2/envs/tensorflow3.6/lib/python3.6/site-packages (from requests==2.18.4->-r requirements.txt (line 4)) (2.6)\n",
      "Requirement already satisfied: urllib3<1.23,>=1.21.1 in /anaconda2/envs/tensorflow3.6/lib/python3.6/site-packages (from requests==2.18.4->-r requirements.txt (line 4)) (1.22)\n",
      "Requirement already satisfied: kiwisolver>=1.0.1 in /anaconda2/envs/tensorflow3.6/lib/python3.6/site-packages (from matplotlib==2.2.3->-r requirements.txt (line 7)) (1.0.1)\n",
      "Requirement already satisfied: pyparsing!=2.0.4,!=2.1.2,!=2.1.6,>=2.0.1 in /anaconda2/envs/tensorflow3.6/lib/python3.6/site-packages (from matplotlib==2.2.3->-r requirements.txt (line 7)) (2.2.0)\n",
      "Requirement already satisfied: cycler>=0.10 in /anaconda2/envs/tensorflow3.6/lib/python3.6/site-packages (from matplotlib==2.2.3->-r requirements.txt (line 7)) (0.10.0)\n",
      "Requirement already satisfied: setuptools in /anaconda2/envs/tensorflow3.6/lib/python3.6/site-packages (from kiwisolver>=1.0.1->matplotlib==2.2.3->-r requirements.txt (line 7)) (39.2.0)\n",
      "\u001b[31mtwisted 18.7.0 requires PyHamcrest>=1.9.0, which is not installed.\u001b[0m\n",
      "\u001b[31mtensorflow 1.10.0 has requirement setuptools<=39.1.0, but you'll have setuptools 39.2.0 which is incompatible.\u001b[0m\n",
      "\u001b[33mYou are using pip version 10.0.1, however version 18.0 is available.\n",
      "You should consider upgrading via the 'pip install --upgrade pip' command.\u001b[0m\n"
     ]
    }
   ],
   "source": [
    "import sys\n",
    "!{sys.executable} -m pip install -r requirements.txt"
   ]
  },
  {
   "cell_type": "code",
   "execution_count": 17,
   "metadata": {
    "scrolled": false
   },
   "outputs": [],
   "source": [
    "import math\n",
    "import numpy\n",
    "import matplotlib.pyplot as plt\n",
    "from pandas import read_csv\n",
    "from keras.models import Sequential\n",
    "from keras.layers import Dense\n",
    "from keras.layers import LSTM\n",
    "from sklearn.preprocessing import MinMaxScaler\n",
    "from sklearn.metrics import mean_squared_error"
   ]
  },
  {
   "cell_type": "code",
   "execution_count": 18,
   "metadata": {},
   "outputs": [],
   "source": [
    "# convert an array of values into a data_set matrix\n",
    "def create_data_set(_data_set, _look_back=1):\n",
    "    data_x, data_y = [], []\n",
    "    for i in range(len(_data_set) - _look_back - 1):\n",
    "        a = _data_set[i:(i + _look_back), 0]\n",
    "        data_x.append(a)\n",
    "        data_y.append(_data_set[i + _look_back, 0])\n",
    "    return numpy.array(data_x), numpy.array(data_y)"
   ]
  },
  {
   "cell_type": "code",
   "execution_count": 19,
   "metadata": {},
   "outputs": [],
   "source": [
    "# load the data_set\n",
    "data_frame = read_csv('monthly-milk-production-pounds-p.csv')\n",
    "data_set = data_frame.values\n",
    "data_set = data_set.astype('float32')"
   ]
  },
  {
   "cell_type": "code",
   "execution_count": 20,
   "metadata": {},
   "outputs": [],
   "source": [
    "# normalize the data_set\n",
    "scaler = MinMaxScaler(feature_range=(0, 1))\n",
    "data_set = scaler.fit_transform(data_set)"
   ]
  },
  {
   "cell_type": "code",
   "execution_count": 21,
   "metadata": {},
   "outputs": [],
   "source": [
    "# split into train and test sets\n",
    "train_size = int(len(data_set) * 0.67)\n",
    "test_size = len(data_set) - train_size\n",
    "train, test = data_set[0:train_size, :], data_set[train_size:len(data_set), :]"
   ]
  },
  {
   "cell_type": "code",
   "execution_count": 22,
   "metadata": {},
   "outputs": [],
   "source": [
    "# reshape into X=t and Y=t+1\n",
    "look_back = 1\n",
    "train_x, train_y = create_data_set(train, look_back)\n",
    "test_x, test_y = create_data_set(test, look_back)"
   ]
  },
  {
   "cell_type": "code",
   "execution_count": 23,
   "metadata": {},
   "outputs": [],
   "source": [
    "# reshape input to be [samples, time steps, features]\n",
    "train_x = numpy.reshape(train_x, (train_x.shape[0], 1, train_x.shape[1]))\n",
    "test_x = numpy.reshape(test_x, (test_x.shape[0], 1, test_x.shape[1]))"
   ]
  },
  {
   "cell_type": "code",
   "execution_count": 24,
   "metadata": {
    "scrolled": false
   },
   "outputs": [
    {
     "name": "stdout",
     "output_type": "stream",
     "text": [
      "Epoch 1/100\n",
      " - 1s - loss: 0.0912\n",
      "Epoch 2/100\n",
      " - 0s - loss: 0.0372\n",
      "Epoch 3/100\n",
      " - 0s - loss: 0.0228\n",
      "Epoch 4/100\n",
      " - 0s - loss: 0.0203\n",
      "Epoch 5/100\n",
      " - 0s - loss: 0.0192\n",
      "Epoch 6/100\n",
      " - 0s - loss: 0.0182\n",
      "Epoch 7/100\n",
      " - 0s - loss: 0.0171\n",
      "Epoch 8/100\n",
      " - 0s - loss: 0.0163\n",
      "Epoch 9/100\n",
      " - 0s - loss: 0.0153\n",
      "Epoch 10/100\n",
      " - 0s - loss: 0.0148\n",
      "Epoch 11/100\n",
      " - 0s - loss: 0.0140\n",
      "Epoch 12/100\n",
      " - 0s - loss: 0.0132\n",
      "Epoch 13/100\n",
      " - 0s - loss: 0.0127\n",
      "Epoch 14/100\n",
      " - 0s - loss: 0.0123\n",
      "Epoch 15/100\n",
      " - 0s - loss: 0.0121\n",
      "Epoch 16/100\n",
      " - 0s - loss: 0.0116\n",
      "Epoch 17/100\n",
      " - 0s - loss: 0.0115\n",
      "Epoch 18/100\n",
      " - 0s - loss: 0.0114\n",
      "Epoch 19/100\n",
      " - 0s - loss: 0.0114\n",
      "Epoch 20/100\n",
      " - 0s - loss: 0.0112\n",
      "Epoch 21/100\n",
      " - 0s - loss: 0.0111\n",
      "Epoch 22/100\n",
      " - 0s - loss: 0.0111\n",
      "Epoch 23/100\n",
      " - 0s - loss: 0.0110\n",
      "Epoch 24/100\n",
      " - 0s - loss: 0.0110\n",
      "Epoch 25/100\n",
      " - 0s - loss: 0.0110\n",
      "Epoch 26/100\n",
      " - 0s - loss: 0.0109\n",
      "Epoch 27/100\n",
      " - 0s - loss: 0.0109\n",
      "Epoch 28/100\n",
      " - 0s - loss: 0.0109\n",
      "Epoch 29/100\n",
      " - 0s - loss: 0.0110\n",
      "Epoch 30/100\n",
      " - 0s - loss: 0.0108\n",
      "Epoch 31/100\n",
      " - 0s - loss: 0.0112\n",
      "Epoch 32/100\n",
      " - 0s - loss: 0.0112\n",
      "Epoch 33/100\n",
      " - 0s - loss: 0.0111\n",
      "Epoch 34/100\n",
      " - 0s - loss: 0.0111\n",
      "Epoch 35/100\n",
      " - 0s - loss: 0.0110\n",
      "Epoch 36/100\n",
      " - 0s - loss: 0.0109\n",
      "Epoch 37/100\n",
      " - 0s - loss: 0.0110\n",
      "Epoch 38/100\n",
      " - 0s - loss: 0.0108\n",
      "Epoch 39/100\n",
      " - 0s - loss: 0.0109\n",
      "Epoch 40/100\n",
      " - 0s - loss: 0.0109\n",
      "Epoch 41/100\n",
      " - 0s - loss: 0.0110\n",
      "Epoch 42/100\n",
      " - 0s - loss: 0.0109\n",
      "Epoch 43/100\n",
      " - 0s - loss: 0.0109\n",
      "Epoch 44/100\n",
      " - 0s - loss: 0.0110\n",
      "Epoch 45/100\n",
      " - 0s - loss: 0.0109\n",
      "Epoch 46/100\n",
      " - 0s - loss: 0.0109\n",
      "Epoch 47/100\n",
      " - 0s - loss: 0.0110\n",
      "Epoch 48/100\n",
      " - 0s - loss: 0.0111\n",
      "Epoch 49/100\n",
      " - 0s - loss: 0.0110\n",
      "Epoch 50/100\n",
      " - 0s - loss: 0.0109\n",
      "Epoch 51/100\n",
      " - 0s - loss: 0.0109\n",
      "Epoch 52/100\n",
      " - 0s - loss: 0.0109\n",
      "Epoch 53/100\n",
      " - 0s - loss: 0.0109\n",
      "Epoch 54/100\n",
      " - 0s - loss: 0.0109\n",
      "Epoch 55/100\n",
      " - 0s - loss: 0.0110\n",
      "Epoch 56/100\n",
      " - 0s - loss: 0.0108\n",
      "Epoch 57/100\n",
      " - 0s - loss: 0.0109\n",
      "Epoch 58/100\n",
      " - 0s - loss: 0.0109\n",
      "Epoch 59/100\n",
      " - 0s - loss: 0.0107\n",
      "Epoch 60/100\n",
      " - 0s - loss: 0.0111\n",
      "Epoch 61/100\n",
      " - 0s - loss: 0.0109\n",
      "Epoch 62/100\n",
      " - 0s - loss: 0.0109\n",
      "Epoch 63/100\n",
      " - 0s - loss: 0.0108\n",
      "Epoch 64/100\n",
      " - 0s - loss: 0.0108\n",
      "Epoch 65/100\n",
      " - 0s - loss: 0.0110\n",
      "Epoch 66/100\n",
      " - 0s - loss: 0.0109\n",
      "Epoch 67/100\n",
      " - 0s - loss: 0.0111\n",
      "Epoch 68/100\n",
      " - 0s - loss: 0.0109\n",
      "Epoch 69/100\n",
      " - 0s - loss: 0.0109\n",
      "Epoch 70/100\n",
      " - 0s - loss: 0.0110\n",
      "Epoch 71/100\n",
      " - 0s - loss: 0.0110\n",
      "Epoch 72/100\n",
      " - 0s - loss: 0.0110\n",
      "Epoch 73/100\n",
      " - 0s - loss: 0.0110\n",
      "Epoch 74/100\n",
      " - 0s - loss: 0.0110\n",
      "Epoch 75/100\n",
      " - 0s - loss: 0.0110\n",
      "Epoch 76/100\n",
      " - 0s - loss: 0.0111\n",
      "Epoch 77/100\n",
      " - 0s - loss: 0.0109\n",
      "Epoch 78/100\n",
      " - 0s - loss: 0.0109\n",
      "Epoch 79/100\n",
      " - 0s - loss: 0.0110\n",
      "Epoch 80/100\n",
      " - 0s - loss: 0.0110\n",
      "Epoch 81/100\n",
      " - 0s - loss: 0.0107\n",
      "Epoch 82/100\n",
      " - 0s - loss: 0.0112\n",
      "Epoch 83/100\n",
      " - 0s - loss: 0.0109\n",
      "Epoch 84/100\n",
      " - 0s - loss: 0.0112\n",
      "Epoch 85/100\n",
      " - 0s - loss: 0.0110\n",
      "Epoch 86/100\n",
      " - 0s - loss: 0.0110\n",
      "Epoch 87/100\n",
      " - 0s - loss: 0.0109\n",
      "Epoch 88/100\n",
      " - 0s - loss: 0.0108\n",
      "Epoch 89/100\n",
      " - 0s - loss: 0.0110\n",
      "Epoch 90/100\n",
      " - 0s - loss: 0.0108\n",
      "Epoch 91/100\n",
      " - 0s - loss: 0.0109\n",
      "Epoch 92/100\n",
      " - 0s - loss: 0.0111\n",
      "Epoch 93/100\n",
      " - 0s - loss: 0.0109\n",
      "Epoch 94/100\n",
      " - 0s - loss: 0.0109\n",
      "Epoch 95/100\n",
      " - 0s - loss: 0.0108\n",
      "Epoch 96/100\n",
      " - 0s - loss: 0.0108\n",
      "Epoch 97/100\n",
      " - 0s - loss: 0.0108\n",
      "Epoch 98/100\n",
      " - 0s - loss: 0.0110\n",
      "Epoch 99/100\n",
      " - 0s - loss: 0.0108\n",
      "Epoch 100/100\n",
      " - 0s - loss: 0.0109\n"
     ]
    },
    {
     "data": {
      "text/plain": [
       "<keras.callbacks.History at 0x11f6e14a8>"
      ]
     },
     "execution_count": 24,
     "metadata": {},
     "output_type": "execute_result"
    }
   ],
   "source": [
    "# create and fit the LSTM network\n",
    "model = Sequential()\n",
    "model.add(LSTM(4, input_shape=(1, look_back)))\n",
    "model.add(Dense(1))\n",
    "model.compile(loss='mean_squared_error', optimizer='adam')\n",
    "model.fit(train_x, train_y, epochs=100, batch_size=1, verbose=2)"
   ]
  },
  {
   "cell_type": "code",
   "execution_count": 25,
   "metadata": {},
   "outputs": [],
   "source": [
    "# make predictions\n",
    "train_predict = model.predict(train_x)\n",
    "test_predict = model.predict(test_x)"
   ]
  },
  {
   "cell_type": "code",
   "execution_count": 26,
   "metadata": {},
   "outputs": [],
   "source": [
    "# invert predictions\n",
    "train_predict = scaler.inverse_transform(train_predict)\n",
    "train_y = scaler.inverse_transform([train_y])\n",
    "test_predict = scaler.inverse_transform(test_predict)\n",
    "test_y = scaler.inverse_transform([test_y])"
   ]
  },
  {
   "cell_type": "code",
   "execution_count": 27,
   "metadata": {},
   "outputs": [
    {
     "name": "stdout",
     "output_type": "stream",
     "text": [
      "Train Score: 43.06 RMSE\n",
      "Test Score: 47.65 RMSE\n"
     ]
    }
   ],
   "source": [
    "# calculate root mean squared error\n",
    "train_score = math.sqrt(mean_squared_error(train_y[0], train_predict[:, 0]))\n",
    "print('Train Score: %.2f RMSE' % train_score)\n",
    "test_score = math.sqrt(mean_squared_error(test_y[0], test_predict[:, 0]))\n",
    "print('Test Score: %.2f RMSE' % test_score)"
   ]
  },
  {
   "cell_type": "code",
   "execution_count": 28,
   "metadata": {},
   "outputs": [],
   "source": [
    "# shift train predictions for plotting\n",
    "train_predict_plot = numpy.empty_like(data_set)\n",
    "train_predict_plot[:, :] = numpy.nan\n",
    "train_predict_plot[look_back:len(train_predict) + look_back, :] = train_predict"
   ]
  },
  {
   "cell_type": "code",
   "execution_count": 29,
   "metadata": {},
   "outputs": [],
   "source": [
    "# shift test predictions for plotting\n",
    "test_predict_plot = numpy.empty_like(data_set)\n",
    "test_predict_plot[:, :] = numpy.nan\n",
    "test_predict_plot[len(train_predict) + (look_back * 2) + 1:len(data_set) - 1, :] = test_predict"
   ]
  },
  {
   "cell_type": "code",
   "execution_count": 30,
   "metadata": {},
   "outputs": [
    {
     "data": {
      "image/png": "[encoded data removed]",
      "text/plain": [
       "<Figure size 432x288 with 1 Axes>"
      ]
     },
     "metadata": {},
     "output_type": "display_data"
    }
   ],
   "source": [
    "# plot baseline and predictions\n",
    "plt.plot(scaler.inverse_transform(data_set))\n",
    "plt.plot(train_predict_plot)\n",
    "plt.plot(test_predict_plot)\n",
    "plt.show()"
   ]
  }
 ],
 "metadata": {
  "kernelspec": {
   "display_name": "Python 3",
   "language": "python",
   "name": "python3"
  },
  "language_info": {
   "codemirror_mode": {
    "name": "ipython",
    "version": 3
   },
   "file_extension": ".py",
   "mimetype": "text/x-python",
   "name": "python",
   "nbconvert_exporter": "python",
   "pygments_lexer": "ipython3",
   "version": "3.6.5"
  }
 },
 "nbformat": 4,
 "nbformat_minor": 2
}
